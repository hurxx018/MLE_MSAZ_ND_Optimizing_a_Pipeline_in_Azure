{
 "cells": [
  {
   "cell_type": "code",
   "execution_count": null,
   "source": [
    "import azureml.core\r\n",
    "\r\n",
    "print(azureml.core.VERSION)"
   ],
   "outputs": [],
   "metadata": {}
  },
  {
   "cell_type": "code",
   "execution_count": null,
   "source": [
    "from azureml.core import Workspace, Experiment\r\n",
    "\r\n",
    "ws = Workspace.get(name=\"udacity-project\")\r\n",
    "exp = Experiment(workspace=ws, name=\"udacity-project\")\r\n",
    "\r\n",
    "print('Workspace name: ' + ws.name, \r\n",
    "      'Azure region: ' + ws.location, \r\n",
    "      'Subscription id: ' + ws.subscription_id, \r\n",
    "      'Resource group: ' + ws.resource_group, sep = '\\n')\r\n",
    "\r\n",
    "run = exp.start_logging()"
   ],
   "outputs": [],
   "metadata": {
    "gather": {
     "logged": 1598275788035
    }
   }
  },
  {
   "cell_type": "code",
   "execution_count": null,
   "source": [
    "from azureml.core.compute import ComputeTarget, AmlCompute\r\n",
    "from azureml.core.compute_target import ComputeTargetException\r\n",
    "\r\n",
    "# Create compute cluster\r\n",
    "# Use vm_size = \"Standard_D2_V2\" in your provisioning configuration.\r\n",
    "# max_nodes should be no greater than 4.\r\n",
    "\r\n",
    "cpu_cluster_name = \"cpu-cluster\"\r\n",
    "vm_size = \"Stanard_D2_V2\"\r\n",
    "max_nodes = 4\r\n",
    "\r\n",
    "try:\r\n",
    "    compute_target = ComputeTarget(workspzce=ws, name=cpu_cluster_name)\r\n",
    "    print(\"Found existing cluster. use it\")\r\n",
    "except ComputeTargetException:\r\n",
    "    compute_config = AmlCompute.provisioning_configuration(vm_size=vm_size,\r\n",
    "                                                           max_nodes=max_nodes)\r\n",
    "    compute_target = ComputeTarget.create(ws, cpu_cluster_name, compute_config)\r\n",
    "\r\n",
    "compute_target.wait_for_completion(show_output=True)\r\n",
    "\r\n",
    "# a detailed status for the current cluster.\r\n",
    "print(compute_target.get_status().serialize())"
   ],
   "outputs": [],
   "metadata": {
    "gather": {
     "logged": 1598275788675
    },
    "jupyter": {
     "outputs_hidden": false,
     "source_hidden": false
    },
    "nteract": {
     "transient": {
      "deleting": false
     }
    }
   }
  },
  {
   "cell_type": "code",
   "execution_count": null,
   "source": [
    "import os\r\n",
    "import shutil\r\n",
    "\r\n",
    "from azureml.widgets import RunDetails\r\n",
    "from azureml.train.hyperdrive.run import PrimaryMetricGoal\r\n",
    "from azureml.train.hyperdrive.policy import BanditPolicy\r\n",
    "from azureml.train.hyperdrive.sampling import RandomParameterSampling\r\n",
    "from azureml.train.hyperdrive.parameter_expressions import uniform, choice\r\n",
    "\r\n",
    "from azureml.core import ScriptRunConfig\r\n",
    "from azureml.train.hyperdrive.runconfig import HyperDriveConfig\r\n",
    "\r\n",
    "# Specify parameter sampler\r\n",
    "parameter_space = { \"--C\": uniform(0.1, 1.0), \r\n",
    "                    \"--max_iter\": choice([10, 25, 50, 100, 500]) }\r\n",
    "param_sampling = RandomParameterSampling(parameter_space) ### YOUR CODE HERE ###\r\n",
    "\r\n",
    "# Specify a Policy\r\n",
    "policy = BanditPolicy(evaluation_interval=2, slack_factor=0.1) ### YOUR CODE HERE ###\r\n",
    "\r\n",
    "script_folder = \"training\"\r\n",
    "os.mkdir(os.path.join(\".\", script_folder), exist_ok=True)\r\n",
    "\r\n",
    "# Create a SKLearn estimator for use with train.py\r\n",
    "shutil.copy(\"./train.py\", os.path.join(\".\", script_folder, \"train.py\"))\r\n",
    "source_directory=os.path.join(\".\", script_folder)\r\n",
    "\r\n"
   ],
   "outputs": [],
   "metadata": {
    "gather": {
     "logged": 1598275789986
    },
    "jupyter": {
     "outputs_hidden": false,
     "source_hidden": false
    },
    "nteract": {
     "transient": {
      "deleting": false
     }
    }
   }
  },
  {
   "cell_type": "code",
   "execution_count": null,
   "source": [
    "%%writefile conda_dependencies.yml\r\n",
    "\r\n",
    "dependencies:\r\n",
    "- python=3.6.2\r\n",
    "- scikit-learn\r\n",
    "- pip:\r\n",
    "  - azureml-defaults"
   ],
   "outputs": [],
   "metadata": {}
  },
  {
   "cell_type": "code",
   "execution_count": null,
   "source": [
    "from azureml.core import Environment\r\n",
    "\r\n",
    "sklearn_env = Environment.from_conda_specification(name = 'sklearn-env', file_path = './conda_dependencies.yml')"
   ],
   "outputs": [],
   "metadata": {}
  },
  {
   "cell_type": "code",
   "execution_count": null,
   "source": [
    "# Use ScrptRunConfig\r\n",
    "src = ScriptRunConfig(source_directory=script_folder,\r\n",
    "                      script='train.py',\r\n",
    "                      arguments=['--C', 0.1, '--max_iter', 1.0],\r\n",
    "                      compute_target=compute_target,\r\n",
    "                      environment=sklearn_env)"
   ],
   "outputs": [],
   "metadata": {}
  },
  {
   "cell_type": "code",
   "execution_count": null,
   "source": [
    "# Create a HyperDriveConfig using the estimator, hyperparameter sampler, and policy.\r\n",
    "hyperdrive_config = HyperDriveConfig(\r\n",
    "                        run_config=src,\r\n",
    "                        hyperparameter_sampling=param_sampling,\r\n",
    "                        policy=policy,\r\n",
    "                        primary_metric_name=\"Accuracy\",\r\n",
    "                        primary_metric_goal=PrimaryMetricGoal.MAXIMIZE,\r\n",
    "                        max_total_runs=12,\r\n",
    "                        max_concurrent_runs=max_nodes\r\n",
    "                        ) "
   ],
   "outputs": [],
   "metadata": {}
  },
  {
   "cell_type": "code",
   "execution_count": null,
   "source": [
    "# Submit your hyperdrive run to the experiment and show run details with the widget.\r\n",
    "\r\n",
    "### YOUR CODE HERE ###\r\n",
    "hyperdrive_run = exp.submit(config=hyperdrive_config)\r\n",
    "\r\n",
    "RunDetails(hyperdrive_run).show()"
   ],
   "outputs": [],
   "metadata": {}
  },
  {
   "cell_type": "code",
   "execution_count": null,
   "source": [
    "hyperdrive_run.wait_for_completion(show_output=True)"
   ],
   "outputs": [],
   "metadata": {}
  },
  {
   "cell_type": "code",
   "execution_count": null,
   "source": [
    "import joblib\r\n",
    "# Get your best run and save the model from that run.\r\n",
    "\r\n",
    "best_run = hyperdrive_run.get_best_run_by_primary_metric()\r\n",
    "best_run_metrics = best_run.get_metrics()\r\n",
    "parameter_values = best_run.get_details()[\"runDefinition\"][\"Arguments\"]\r\n"
   ],
   "outputs": [],
   "metadata": {
    "gather": {
     "logged": 1598276310862
    },
    "jupyter": {
     "outputs_hidden": false,
     "source_hidden": false
    },
    "nteract": {
     "transient": {
      "deleting": false
     }
    }
   }
  },
  {
   "cell_type": "code",
   "execution_count": null,
   "source": [
    "print(\"Best Run Id      :\", best_run.id)\r\n",
    "print(\"Accuracy         :\", best_run_metrics[\"accuracy\"])\r\n",
    "# print(\"Learning rate    :\", parameter_values[3])\r\n",
    "# print(\"Batch size       :\")\r\n",
    "\r\n",
    "print(parameter_values)"
   ],
   "outputs": [],
   "metadata": {}
  },
  {
   "cell_type": "code",
   "execution_count": null,
   "source": [
    "best_run.download_file(best_run.get_file_names()[-1], output_file_path=os.path.join(\".\", script_folder))"
   ],
   "outputs": [],
   "metadata": {}
  },
  {
   "cell_type": "code",
   "execution_count": null,
   "source": [
    "from azureml.data.dataset_factory import TabularDatasetFactory\r\n",
    "\r\n",
    "# Create TabularDataset using TabularDatasetFactory\r\n",
    "# Data is available at: \r\n",
    "# \"https://automlsamplenotebookdata.blob.core.windows.net/automl-sample-notebook-data/bankmarketing_train.csv\"\r\n",
    "\r\n",
    "### YOUR CODE HERE ###\r\n",
    "filename = \"https://automlsamplenotebookdata.blob.core.windows.net/automl-sample-notebook-data/bankmarketing_train.csv\"\r\n",
    "ds = TabularDatasetFactory.from_delimited_files(filename)"
   ],
   "outputs": [],
   "metadata": {}
  },
  {
   "cell_type": "code",
   "execution_count": null,
   "source": [
    "from train import clean_data\r\n",
    "\r\n",
    "# Use the clean_data function to clean your data.\r\n",
    "x, y = clean_data(ds) #(### YOUR DATA OBJECT HERE ###)\r\n",
    "\r\n",
    "x[\"y\"] = y"
   ],
   "outputs": [],
   "metadata": {
    "gather": {
     "logged": 1598275726969
    },
    "jupyter": {
     "outputs_hidden": false,
     "source_hidden": false
    },
    "nteract": {
     "transient": {
      "deleting": false
     }
    }
   }
  },
  {
   "cell_type": "code",
   "execution_count": null,
   "source": [
    "from azureml.train.automl import AutoMLConfig\r\n",
    "\r\n",
    "# Set parameters for AutoMLConfig\r\n",
    "# NOTE: DO NOT CHANGE THE experiment_timeout_minutes PARAMETER OR YOUR INSTANCE WILL TIME OUT.\r\n",
    "# If you wish to run the experiment longer, you will need to run this notebook in your own\r\n",
    "# Azure tenant, which will incur personal costs.\r\n",
    "automl_config = AutoMLConfig(\r\n",
    "    experiment_timeout_minutes=30,\r\n",
    "    task=\"classification\",\r\n",
    "    primary_metric=\"Accuracy\",\r\n",
    "    training_data=x,\r\n",
    "    label_column_name=\"y\",\r\n",
    "    n_cross_validations=3)"
   ],
   "outputs": [],
   "metadata": {
    "gather": {
     "logged": 1598275665403
    },
    "jupyter": {
     "outputs_hidden": false,
     "source_hidden": false
    },
    "nteract": {
     "transient": {
      "deleting": false
     }
    }
   }
  },
  {
   "cell_type": "code",
   "execution_count": 2,
   "source": [
    "# Submit your automl run\r\n",
    "\r\n",
    "### YOUR CODE HERE ###\r\n",
    "automl_run = exp.submit(config=automl_config)\r\n",
    "\r\n",
    "RunDetails(automl_run).show()"
   ],
   "outputs": [],
   "metadata": {
    "jupyter": {
     "outputs_hidden": false,
     "source_hidden": false
    },
    "nteract": {
     "transient": {
      "deleting": false
     }
    }
   }
  },
  {
   "cell_type": "code",
   "execution_count": null,
   "source": [
    "automl_run.wait_for_completion(show_output=True)"
   ],
   "outputs": [],
   "metadata": {}
  },
  {
   "cell_type": "code",
   "execution_count": null,
   "source": [
    "# Retrieve and save your best automl model.\r\n",
    "\r\n",
    "### YOUR CODE HERE ###\r\n",
    "best_run, best_model = automl_run.get_output()\r\n",
    "\r\n",
    "best_model"
   ],
   "outputs": [],
   "metadata": {}
  },
  {
   "cell_type": "code",
   "execution_count": null,
   "source": [
    "# remove compute target\r\n",
    "compute_target.delete()"
   ],
   "outputs": [],
   "metadata": {}
  }
 ],
 "metadata": {
  "kernel_info": {
   "name": "python3-azureml"
  },
  "kernelspec": {
   "display_name": "Python 3",
   "language": "python",
   "name": "python3"
  },
  "language_info": {
   "codemirror_mode": {
    "name": "ipython",
    "version": 3
   },
   "file_extension": ".py",
   "mimetype": "text/x-python",
   "name": "python",
   "nbconvert_exporter": "python",
   "pygments_lexer": "ipython3",
   "version": "3.7.4"
  },
  "nteract": {
   "version": "nteract-front-end@1.0.0"
  }
 },
 "nbformat": 4,
 "nbformat_minor": 2
}